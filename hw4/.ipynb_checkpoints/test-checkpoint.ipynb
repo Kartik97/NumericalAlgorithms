{
 "cells": [
  {
   "cell_type": "code",
   "execution_count": 1,
   "metadata": {},
   "outputs": [],
   "source": [
    "from scipy import linalg\n",
    "import math\n",
    "import numpy as np\n",
    "import pandas as pd"
   ]
  },
  {
   "cell_type": "code",
   "execution_count": 23,
   "metadata": {},
   "outputs": [],
   "source": [
    "def f(A0,A1,y1,x):\n",
    "    return min(np.linalg.eigvals((A0+x*A1)))-y1\n",
    "\n",
    "def findRoot1(A0,A1,y1,etol):\n",
    "    A0eval = linalg.eigvals(A0)\n",
    "    A1eval = linalg.eigvals(A1)\n",
    "    a = (y1-min(A0eval))/min(A1eval)\n",
    "    b = (y1-max(A0eval))/max(A1eval)\n",
    "    count=0\n",
    "    data = np.array([[count,a,b,f(A0,A1,y1,a),f(A0,A1,y1,b),abs(b-a)]])\n",
    "    while(abs(b-a) > etol):\n",
    "        mid = a+(b-a)/2\n",
    "        if(np.sign(min(np.linalg.eigvals((A0+mid*A1)))-y1) == np.sign(min(np.linalg.eigvals((A0+b*A1)))-y1)):\n",
    "            b = mid \n",
    "        else:\n",
    "            a = mid \n",
    "        count+=1\n",
    "        data = np.vstack([data,[count,a,b,f(A0,A1,y1,a),f(A0,A1,y1,b),abs(b-a)]])\n",
    "    data = pd.DataFrame(data.real,columns = [\"Iteration Number\",\"a\",\"b\",\"f(a)\",\"f(b)\",\"|b-a|\"])\n",
    "    if(abs(min(np.linalg.eigvals((A0+a*A1)))-y1) <  abs(min(np.linalg.eigvals((A0+b*A1)))-y1)):\n",
    "        return a\n",
    "    else:\n",
    "        return b"
   ]
  },
  {
   "cell_type": "code",
   "execution_count": 30,
   "metadata": {},
   "outputs": [],
   "source": [
    "def func(A0,A1,A2,x):\n",
    "    temp = linalg.eigvals(A0+A1*x[0]+A2*x[1])\n",
    "    return np.array([[min(temp)],[max(temp)]])\n",
    "\n",
    "def findRoot2(A0,A1,A2,y,x0,rtol,maxiter):\n",
    "    count = 0\n",
    "    y = np.reshape(np.array(y),(-1,1))\n",
    "    x0 = np.reshape(np.array(x0),(-1,1))\n",
    "    jacobian = np.array([[min(linalg.eigvals(A1)),min(linalg.eigvals(A2))],[max(linalg.eigvals(A1)),max(linalg.eigvals(A2))]])\n",
    "    data = np.array([[count,x0.real,func(A0,A1,A2,x0).real,np.linalg.norm(func(A0,A1,A2,x0)-y,ord=2)]])\n",
    "    while True:\n",
    "        # l,u = linalg.lu(jacobian,permute_l=True)\n",
    "        # b = func(A0,A1,A2,x0)-y\n",
    "        # w = linalg.solve_triangular(l,b,lower=True)\n",
    "        # x = linalg.solve_triangular(u,w,lower=False)\n",
    "        x = linalg.solve(jacobian,func(A0,A1,A2,x0)-y)\n",
    "        x0 = x0-x\n",
    "        count+=1\n",
    "        data = np.vstack([data,[count,x0.real,func(A0,A1,A2,x0).real,np.linalg.norm(func(A0,A1,A2,x0)-y,ord=2)]])\n",
    "        if(count>maxiter or np.linalg.norm(func(A0,A1,A2,x0)-y,ord=2)<rtol):\n",
    "            break\n",
    "    data = pd.DataFrame(data.real,columns=[\"Iteration Number\",\"Iterate(x)\",\"Function Value(f(x))\",\"Residual Norm(||f(x)-y||)\"])\n",
    "#     print(data)\n",
    "    return data"
   ]
  },
  {
   "cell_type": "code",
   "execution_count": 31,
   "metadata": {},
   "outputs": [],
   "source": [
    "A0 = np.diag(np.array((range(10)))+1)\n",
    "A1 = np.array([[-2,-1,0,0,0,0,0,0,0,0],\\\n",
    "               [-1,-2,-1,0,0,0,0,0,0,0],\\\n",
    "               [0,-1,-2,-1,0,0,0,0,0,0],\\\n",
    "               [0,0,-1,-2,-1,0,0,0,0,0],\\\n",
    "               [0,0,0,-1,-2,-1,0,0,0,0],\\\n",
    "               [0,0,0,0,-1,-2,-1,0,0,0],\\\n",
    "               [0,0,0,0,0,-1,-2,-1,0,0],\\\n",
    "               [0,0,0,0,0,0,-1,-2,-1,0],\\\n",
    "               [0,0,0,0,0,0,0,-1,-2,-1],\\\n",
    "               [0,0,0,0,0,0,0,0,-1,-2]])\n",
    "arr10 = np.array(range(10))+1\n",
    "A2 = np.sin([arr10, arr10.copy()*2,\\\n",
    "            arr10.copy()*3, arr10.copy()*4,\\\n",
    "            arr10.copy()*5, arr10.copy()*6,\\\n",
    "            arr10.copy()*7, arr10.copy()*8,\\\n",
    "            arr10.copy()*9, arr10.copy()*10,\\\n",
    "            ])\n",
    "\n",
    "y1 = 0\n",
    "y2 = 10\n",
    "y = (y1,y2)\n",
    "# print(findRoot1(A0,A1,y1,1e-6))\n",
    "# print(findRoot2(A0,A1,A2,y,(0,0),1e-12,100000))"
   ]
  },
  {
   "cell_type": "code",
   "execution_count": 32,
   "metadata": {},
   "outputs": [],
   "source": [
    "df = findRoot1(A0,A1,y1,1e-6)\n",
    "df.to_csv(\"temp.csv\")"
   ]
  },
  {
   "cell_type": "code",
   "execution_count": 33,
   "metadata": {},
   "outputs": [],
   "source": [
    "df = findRoot2(A0,A1,A2,y,(0,0),1e-12,100000)"
   ]
  },
  {
   "cell_type": "code",
   "execution_count": 35,
   "metadata": {},
   "outputs": [],
   "source": [
    "df.to_csv(\"temp.csv\")"
   ]
  },
  {
   "cell_type": "code",
   "execution_count": 62,
   "metadata": {},
   "outputs": [
    {
     "name": "stdout",
     "output_type": "stream",
     "text": [
      "[3.16227766] [[1.]]\n",
      "[[ 0.31622777 -0.9486833 ]\n",
      " [ 0.9486833   0.31622777]]\n"
     ]
    }
   ],
   "source": [
    "A = np.array([[1],[3]])\n",
    "u,s,v = linalg.svd(A)\n",
    "print(s,v)\n",
    "print(u)"
   ]
  },
  {
   "cell_type": "code",
   "execution_count": 63,
   "metadata": {},
   "outputs": [],
   "source": [
    "B = np.array([[0,0,1],[0,0,3],[1,3,0]])"
   ]
  },
  {
   "cell_type": "code",
   "execution_count": 64,
   "metadata": {},
   "outputs": [],
   "source": [
    "l,v1 = linalg.eig(B)"
   ]
  },
  {
   "cell_type": "code",
   "execution_count": 65,
   "metadata": {},
   "outputs": [
    {
     "name": "stdout",
     "output_type": "stream",
     "text": [
      "[-3.16227766+0.j  0.        +0.j  3.16227766+0.j]\n",
      "[[-2.23606798e-01  9.48683298e-01 -2.23606798e-01]\n",
      " [-6.70820393e-01 -3.16227766e-01 -6.70820393e-01]\n",
      " [ 7.07106781e-01  1.01499850e-16 -7.07106781e-01]]\n"
     ]
    }
   ],
   "source": [
    "print(l)\n",
    "print(v1)"
   ]
  },
  {
   "cell_type": "code",
   "execution_count": 66,
   "metadata": {},
   "outputs": [],
   "source": [
    "x=v1[:,1]"
   ]
  },
  {
   "cell_type": "code",
   "execution_count": 67,
   "metadata": {},
   "outputs": [
    {
     "data": {
      "text/plain": [
       "array([1.01499850e-16, 3.04499551e-16, 4.44089210e-16])"
      ]
     },
     "execution_count": 67,
     "metadata": {},
     "output_type": "execute_result"
    }
   ],
   "source": [
    "(B@x.T)"
   ]
  },
  {
   "cell_type": "code",
   "execution_count": 69,
   "metadata": {},
   "outputs": [
    {
     "data": {
      "text/plain": [
       "array([ 0.+0.j, -0.+0.j,  0.+0.j])"
      ]
     },
     "execution_count": 69,
     "metadata": {},
     "output_type": "execute_result"
    }
   ],
   "source": [
    "(l[1]*x)"
   ]
  },
  {
   "cell_type": "code",
   "execution_count": 70,
   "metadata": {},
   "outputs": [],
   "source": [
    "A = np.array([[1,4,0],[4,2,5],[0,5,3]])"
   ]
  },
  {
   "cell_type": "code",
   "execution_count": 72,
   "metadata": {},
   "outputs": [],
   "source": [
    "q,r = linalg.qr(A)"
   ]
  },
  {
   "cell_type": "code",
   "execution_count": 82,
   "metadata": {},
   "outputs": [],
   "source": [
    "def gs(A):\n",
    "    m = np.shape(A)[0]\n",
    "    n = np.shape(A)[1]\n",
    "    Q =  np.zeros((m, m))\n",
    "    R =  np.zeros((n, n)) \n",
    "    print (m,n,Q,R)\n",
    "    for j in range(n):\n",
    "        v = A[:,j]\n",
    "        for i in range(j):\n",
    "            R[i,j] =  np.dot(Q[:,i].T , A[:,j])   # I made an arbitrary change here!!!\n",
    "            v = v.squeeze() - (R[i,j] * Q[:,i])\n",
    "        R[j,j] =  np.linalg.norm(v)\n",
    "        Q[:,j] = (v / R[j,j]).squeeze()\n",
    "    return Q, R"
   ]
  },
  {
   "cell_type": "code",
   "execution_count": 2,
   "metadata": {},
   "outputs": [],
   "source": [
    "A = np.array([[1,2,3],[4,5,6],[7,8,9]])\n",
    "B = np.array([[3,4,5],[7,1,9],[4,1,7]])"
   ]
  },
  {
   "cell_type": "code",
   "execution_count": 3,
   "metadata": {},
   "outputs": [
    {
     "data": {
      "text/plain": [
       "(array([ 1.61168440e+01+0.j, -1.11684397e+00+0.j, -9.75918483e-16+0.j]),\n",
       " array([[-0.23197069, -0.78583024,  0.40824829],\n",
       "        [-0.52532209, -0.08675134, -0.81649658],\n",
       "        [-0.8186735 ,  0.61232756,  0.40824829]]),\n",
       " array([12.77208937+0.j, -2.92363919+0.j,  1.15154982+0.j]),\n",
       " array([[-0.53286911, -0.65456203, -0.73690609],\n",
       "        [-0.69065266,  0.73171627, -0.36815381],\n",
       "        [-0.48892679,  0.19010484,  0.56694989]]))"
      ]
     },
     "execution_count": 3,
     "metadata": {},
     "output_type": "execute_result"
    }
   ],
   "source": [
    "l1,v1 = linalg.eig(A)\n",
    "l2,v2 = linalg.eig(B)\n",
    "l1,v1,l2,v2"
   ]
  },
  {
   "cell_type": "code",
   "execution_count": 4,
   "metadata": {},
   "outputs": [
    {
     "data": {
      "text/plain": [
       "(array([29.59575616+0.j, -3.14444527+0.j, -0.45131089+0.j]),\n",
       " array([[-0.36297603, -0.65991046, -0.66681031],\n",
       "        [-0.61449944,  0.75088834, -0.36876236],\n",
       "        [-0.70045617,  0.02617052,  0.64759427]]))"
      ]
     },
     "execution_count": 4,
     "metadata": {},
     "output_type": "execute_result"
    }
   ],
   "source": [
    "l3,v3 = linalg.eig(A+B)\n",
    "l3,v3"
   ]
  }
 ],
 "metadata": {
  "kernelspec": {
   "display_name": "Python 3",
   "language": "python",
   "name": "python3"
  },
  "language_info": {
   "codemirror_mode": {
    "name": "ipython",
    "version": 3
   },
   "file_extension": ".py",
   "mimetype": "text/x-python",
   "name": "python",
   "nbconvert_exporter": "python",
   "pygments_lexer": "ipython3",
   "version": "3.7.4"
  }
 },
 "nbformat": 4,
 "nbformat_minor": 2
}
